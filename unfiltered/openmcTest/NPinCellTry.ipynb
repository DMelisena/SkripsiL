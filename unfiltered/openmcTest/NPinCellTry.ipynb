{
 "cells": [
  {
   "cell_type": "code",
   "execution_count": null,
   "id": "2ab2e078-3b21-48d3-b56d-8efe6cef63c1",
   "metadata": {},
   "outputs": [],
   "source": [
    "%matplotlib inline\n",
    "import openmc"
   ]
  },
  {
   "cell_type": "code",
   "execution_count": null,
   "id": "fe3f3e5d-b1fb-454c-9ecd-0e08dc807b63",
   "metadata": {},
   "outputs": [],
   "source": [
    "uo2 = openmc.Material(1,\"uo2\") \n",
    "uo2.add_nuclide('U235',0.03)\n",
    "uo2.add_nuclide('U238',0.97)\n",
    "uo2.add_nuclide('O16',2)\n",
    "uo2.set_density('g/cm3',10)\n",
    "print(\"uo2 =\",uo2)\n",
    "\n",
    "#Pure Zirconium\n",
    "zirconium =  openmc.Material(2,\"Zirconium\")\n",
    "zirconium.add_nuclide('Zr',1.0)\n",
    "zirconium.set_density('g/cm3',6.6)\n",
    "print(\"Zirconium =\",zirconium)\n",
    "\n",
    "#Just Water, H2O\n",
    "water=openmc.Material(3,\"H2O\")\n",
    "water.add_nuclide('H1',2)\n",
    "water.add_nuclide('O16',1)\n",
    "water.set_density('g/cc',1)\n",
    "water.add_s_alpha_beta('c_H_in_H2O')\n",
    "\n",
    "mats=openmc.Materials([uo2,zirconium,water])"
   ]
  },
  {
   "cell_type": "markdown",
   "id": "756e775d-9f31-4bd8-bbf8-802458bdddd6",
   "metadata": {},
   "source": [
    "########### Material Mix #############\n",
    "#mixture of 0.97 uo2 and 0.03 puo2\n",
    "\n",
    "uo2_3 = openmc.Material()\n",
    "uo2_3.add_element('U',1,enrichment=3)\n",
    "uo2_3.add_element('O',2)\n",
    "uo2_3.set_density('g/cm3',10) #g/cc = g/cm3\n",
    "\n",
    "#instead of u or H, Here we use Pu\n",
    "puo2=openmc.Material()\n",
    "puo2.add_nuclide('Pu239',0.94)\n",
    "puo2.add_nuclide('Pu240',0.06)\n",
    "puo2.add_nuclide('O16',2)\n",
    "puo2.set_density('g/cm3',11.5)\n",
    "\n",
    "mox=openmc.Material.mix_materials([uo2,puo2],[0.97,0.03],'wo')"
   ]
  },
  {
   "cell_type": "code",
   "execution_count": null,
   "id": "0f12894f-4c98-4eaf-bfe6-5dc68980378b",
   "metadata": {},
   "outputs": [],
   "source": [
    "############# Geometry ###############\n",
    "sph= openmc.Sphere(r=1.0)\n",
    "isphere=-sph\n",
    "osphere=+sph\n",
    "\n",
    "#print((0,0,0) in isphere, (0,0,2) in isphere)\n",
    "\n",
    "z_plane=openmc.ZPlane(z0=0)\n",
    "n_hemisphere=-sph & +z_plane #What the hell does this even mean\n",
    "\n",
    "n_hemisphere.bounding_box\n",
    "\n",
    "cell=openmc.Cell()\n",
    "cell.region=n_hemisphere #or cell = openmc.Cell(region=n_hemisphere)\n",
    "cell.fill=water\n",
    "\n",
    "######################################\n",
    "univ=openmc.Universe(cells=[cell])\n",
    "#univ=openmc.Universe()\n",
    "#univ.add_cell(cell)\n",
    "\n",
    "univ.plot(width=(2.0, 2.0))\n",
    "plt.savefig('plot.png')\n",
    "univ.plot(width=(2,2),basis='xz',colors={cell:'fuchsia'})\n",
    "\n",
    "plt.savefig('xz.png')\n",
    "plt.show()\n",
    "##########################"
   ]
  },
  {
   "cell_type": "markdown",
   "id": "dc00930e-6ed1-49c7-b526-429e5ee4b686",
   "metadata": {},
   "source": []
  }
 ],
 "metadata": {
  "kernelspec": {
   "display_name": "Python 3 (ipykernel)",
   "language": "python",
   "name": "python3"
  },
  "language_info": {
   "codemirror_mode": {
    "name": "ipython",
    "version": 3
   },
   "file_extension": ".py",
   "mimetype": "text/x-python",
   "name": "python",
   "nbconvert_exporter": "python",
   "pygments_lexer": "ipython3",
   "version": "3.11.3"
  }
 },
 "nbformat": 4,
 "nbformat_minor": 5
}
